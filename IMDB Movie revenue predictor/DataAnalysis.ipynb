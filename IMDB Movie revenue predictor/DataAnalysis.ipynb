{
 "cells": [
  {
   "cell_type": "code",
   "execution_count": 1,
   "metadata": {},
   "outputs": [],
   "source": [
    "# Load required Libraries\n",
    "import numpy as np, pandas as pd\n",
    "import seaborn as sns; sns.set()\n",
    "import matplotlib.pyplot as plt\n",
    "from sklearn.model_selection import train_test_split \n",
    "from sklearn.linear_model import LinearRegression\n",
    "from sklearn import metrics\n",
    "from scipy import stats\n",
    "from sklearn.metrics import r2_score # To get the rsq score\n",
    "import statsmodels.api as sm\n",
    "from sklearn.feature_selection import RFE\n",
    "#from sklearn.utils import check_arrays  # For MAPE calculation\n",
    "from sklearn.preprocessing import PolynomialFeatures #For Polynomial LM\n",
    "from sklearn.model_selection import cross_val_score #K-fold CV\n",
    "from sklearn.metrics import mean_squared_error #MSE\n",
    "from sklearn.feature_selection import f_regression #for ANNOVA\n",
    "from sklearn.feature_selection import SelectKBest\n",
    "from sklearn.decomposition import PCA # PCA\n",
    "from sklearn.linear_model import Lasso\n",
    "from sklearn.linear_model import Ridge\n",
    "\n",
    "%matplotlib inline\n",
    "\n",
    "pd.options.display.float_format = '{:.2f}'.format  # to suppress scientific notation"
   ]
  },
  {
   "cell_type": "markdown",
   "metadata": {},
   "source": [
    "# ------------------------Read The Cleaned data----------------------"
   ]
  },
  {
   "cell_type": "code",
   "execution_count": 2,
   "metadata": {},
   "outputs": [],
   "source": [
    "df = pd.read_csv(\"D:/Notes/Matt 891/Matt_imdb project/IMDBforR.csv\")\n",
    "Test_df_final = pd.read_csv(\"D:/Notes/Matt 891/Matt_imdb project/Test_4movies.csv\")"
   ]
  },
  {
   "cell_type": "markdown",
   "metadata": {},
   "source": [
    "# ---------------------Create A Baseline Linear Model------------------------"
   ]
  },
  {
   "cell_type": "code",
   "execution_count": 170,
   "metadata": {},
   "outputs": [],
   "source": [
    "# Function to calculate MAPE\n",
    "\n",
    "def mean_absolute_percentage_error(y_true, y_pred): \n",
    "    y_true, y_pred = np.array(y_true), np.array(y_pred)\n",
    "    return np.mean(np.abs((y_true - y_pred) / y_true)) * 100"
   ]
  },
  {
   "cell_type": "code",
   "execution_count": 171,
   "metadata": {
    "scrolled": true
   },
   "outputs": [
    {
     "name": "stdout",
     "output_type": "stream",
     "text": [
      "<class 'pandas.core.frame.DataFrame'>\n",
      "RangeIndex: 1023 entries, 0 to 1022\n",
      "Data columns (total 14 columns):\n",
      "Unnamed: 0                    1023 non-null int64\n",
      "title                         1023 non-null object\n",
      "year                          1023 non-null int64\n",
      "certi                         1023 non-null object\n",
      "time                          1023 non-null object\n",
      "release_date                  1023 non-null object\n",
      "rating                        1023 non-null float64\n",
      "metascore                     734 non-null float64\n",
      "budget                        1023 non-null int64\n",
      "Opening_Weekend_USA           1023 non-null int64\n",
      "Gross_USA                     1023 non-null int64\n",
      "Cumulative_Worldwide_Gross    1023 non-null int64\n",
      "Runtime                       1010 non-null float64\n",
      "Release_Month                 1023 non-null int64\n",
      "dtypes: float64(3), int64(7), object(4)\n",
      "memory usage: 112.0+ KB\n",
      "None\n",
      "       Unnamed: 0    year  rating  metascore       budget  \\\n",
      "count     1023.00 1023.00 1023.00     734.00      1023.00   \n",
      "mean       806.10 2009.47    6.27      58.05  75567663.73   \n",
      "std        538.11    5.69    1.02      12.55  60365872.91   \n",
      "min          0.00 2000.00    2.10      40.00     40000.00   \n",
      "25%        306.50 2005.00    5.65      48.00  30000000.00   \n",
      "50%        829.00 2010.00    6.30      56.00  60000000.00   \n",
      "75%       1250.50 2014.00    6.90      66.00 108500000.00   \n",
      "max       1731.00 2020.00    9.00      95.00 356000000.00   \n",
      "\n",
      "       Opening_Weekend_USA    Gross_USA  Cumulative_Worldwide_Gross  Runtime  \\\n",
      "count              1023.00      1023.00                     1023.00  1010.00   \n",
      "mean           29451399.11  95191297.49                236611583.11   109.40   \n",
      "std            35041832.71 106985461.65                300925617.34    19.08   \n",
      "min                3500.00      3700.00                     3700.00    73.00   \n",
      "25%             8884868.50  26449369.00                 48483421.50    95.00   \n",
      "50%            18211126.00  58250803.00                124745083.00   106.00   \n",
      "75%            37001599.00 125200573.00                306728777.00   119.00   \n",
      "max           357115007.00 858373000.00               2797800564.00   219.00   \n",
      "\n",
      "       Release_Month  \n",
      "count        1023.00  \n",
      "mean            6.38  \n",
      "std             3.37  \n",
      "min             1.00  \n",
      "25%             3.00  \n",
      "50%             6.00  \n",
      "75%             9.00  \n",
      "max            12.00  \n"
     ]
    }
   ],
   "source": [
    "# Get a Overview of the data\n",
    "print(df.info())\n",
    "print(df.describe())"
   ]
  },
  {
   "cell_type": "code",
   "execution_count": 172,
   "metadata": {},
   "outputs": [
    {
     "name": "stdout",
     "output_type": "stream",
     "text": [
      "<class 'pandas.core.frame.DataFrame'>\n",
      "RangeIndex: 1023 entries, 0 to 1022\n",
      "Data columns (total 20 columns):\n",
      "rating              1023 non-null float64\n",
      "metascore           1023 non-null float64\n",
      "budget              1023 non-null int64\n",
      "Runtime             1023 non-null float64\n",
      "Gross_USA           1023 non-null int64\n",
      "certi_PG            1023 non-null uint8\n",
      "certi_PG-13         1023 non-null uint8\n",
      "certi_R             1023 non-null uint8\n",
      "Release_Month_1     1023 non-null uint8\n",
      "Release_Month_2     1023 non-null uint8\n",
      "Release_Month_3     1023 non-null uint8\n",
      "Release_Month_4     1023 non-null uint8\n",
      "Release_Month_5     1023 non-null uint8\n",
      "Release_Month_6     1023 non-null uint8\n",
      "Release_Month_7     1023 non-null uint8\n",
      "Release_Month_8     1023 non-null uint8\n",
      "Release_Month_9     1023 non-null uint8\n",
      "Release_Month_10    1023 non-null uint8\n",
      "Release_Month_11    1023 non-null uint8\n",
      "Release_Month_12    1023 non-null uint8\n",
      "dtypes: float64(3), int64(2), uint8(15)\n",
      "memory usage: 55.1 KB\n"
     ]
    }
   ],
   "source": [
    "df[\"year\"] = df[\"year\"].astype('category',copy=False)\n",
    "df[\"Release_Month\"] = df[\"Release_Month\"].astype('category',copy=False)\n",
    "\n",
    "# Checking for null values and filling it with the mean of the colum for only those which \n",
    "        # we are going to check as independent variables \n",
    "df.isnull().any()\n",
    "df['metascore'].fillna((df['metascore'].mean()), inplace=True)\n",
    "df['Runtime'].fillna((df['Runtime'].mean()), inplace=True)\n",
    "\n",
    "# Selecting the colums for analysis and Converting categorical variable to dummy \n",
    "\n",
    "df_model = df[['certi', 'rating', 'metascore', 'budget', 'Runtime','Gross_USA','Release_Month']]\n",
    "df_model = pd.get_dummies(df_model)\n",
    "df_model.info()"
   ]
  },
  {
   "cell_type": "code",
   "execution_count": 173,
   "metadata": {},
   "outputs": [],
   "source": [
    "#Setting Dependent and independent Variables\n",
    "\n",
    "X = df_model[['budget', 'Runtime','certi_PG','certi_PG-13','certi_R','Release_Month_1','Release_Month_2',\n",
    "              'Release_Month_3','Release_Month_4','Release_Month_5','Release_Month_6','Release_Month_7','Release_Month_8',\n",
    "             'Release_Month_9','Release_Month_10','Release_Month_11','Release_Month_12']].values\n",
    "y = df_model[[\"Gross_USA\"]].values\n",
    "\n",
    "\n",
    "# Splitting data in 80-20 proportion.\n",
    "X_train, X_test, y_train, y_test = train_test_split(X,y,random_state=1,test_size=0.2)"
   ]
  },
  {
   "cell_type": "code",
   "execution_count": 174,
   "metadata": {},
   "outputs": [
    {
     "data": {
      "text/plain": [
       "LinearRegression(copy_X=True, fit_intercept=True, n_jobs=None, normalize=False)"
      ]
     },
     "execution_count": 174,
     "metadata": {},
     "output_type": "execute_result"
    }
   ],
   "source": [
    "# Linear regression\n",
    "\n",
    "lr = LinearRegression()\n",
    "lr.fit(X_train,y_train)"
   ]
  },
  {
   "cell_type": "code",
   "execution_count": 175,
   "metadata": {},
   "outputs": [
    {
     "data": {
      "text/plain": [
       "array([-78372746.35451028])"
      ]
     },
     "execution_count": 175,
     "metadata": {},
     "output_type": "execute_result"
    }
   ],
   "source": [
    "# Y-intercept\n",
    "lr.intercept_"
   ]
  },
  {
   "cell_type": "code",
   "execution_count": 176,
   "metadata": {},
   "outputs": [
    {
     "data": {
      "text/plain": [
       "2360.1516428619766"
      ]
     },
     "execution_count": 176,
     "metadata": {},
     "output_type": "execute_result"
    }
   ],
   "source": [
    "# Predict and check on validation set\n",
    "\n",
    "y_pred = lr.predict(X_test)\n",
    "mean_absolute_percentage_error(y_test,y_pred)"
   ]
  },
  {
   "cell_type": "code",
   "execution_count": 177,
   "metadata": {},
   "outputs": [
    {
     "data": {
      "text/plain": [
       "0.5423522028883306"
      ]
     },
     "execution_count": 177,
     "metadata": {},
     "output_type": "execute_result"
    }
   ],
   "source": [
    "# Rsq score\n",
    "\n",
    "r2_score(y_test,y_pred)"
   ]
  },
  {
   "cell_type": "code",
   "execution_count": 178,
   "metadata": {},
   "outputs": [
    {
     "data": {
      "text/plain": [
       "array([[2.01518458e+08],\n",
       "       [1.34814087e+08],\n",
       "       [3.47470170e+07],\n",
       "       [1.88495126e+08]])"
      ]
     },
     "execution_count": 178,
     "metadata": {},
     "output_type": "execute_result"
    }
   ],
   "source": [
    "# Predict for our test cases.\n",
    "\n",
    "y_pred_f = lr.predict(Test_df_final)\n",
    "y_pred_f"
   ]
  },
  {
   "cell_type": "markdown",
   "metadata": {},
   "source": [
    "## Linear assumptions"
   ]
  },
  {
   "cell_type": "code",
   "execution_count": 179,
   "metadata": {},
   "outputs": [
    {
     "data": {
      "image/png": "[encoded data removed]",
      "text/plain": [
       "<Figure size 432x288 with 1 Axes>"
      ]
     },
     "metadata": {
      "needs_background": "light"
     },
     "output_type": "display_data"
    }
   ],
   "source": [
    "# Checking assumptions of linear regression\n",
    "\n",
    "residuals = y_test - y_pred\n",
    "\n",
    "plt.figure()\n",
    "sns.distplot(residuals)\n",
    "plt.show()"
   ]
  },
  {
   "cell_type": "code",
   "execution_count": null,
   "metadata": {},
   "outputs": [],
   "source": []
  },
  {
   "cell_type": "markdown",
   "metadata": {},
   "source": [
    "# ---------------Principal component analysis-------------------"
   ]
  },
  {
   "cell_type": "code",
   "execution_count": 139,
   "metadata": {},
   "outputs": [],
   "source": [
    "#Select number of Principal components \n",
    "\n",
    "pc = PCA(n_components=3,random_state=1)"
   ]
  },
  {
   "cell_type": "code",
   "execution_count": 140,
   "metadata": {},
   "outputs": [],
   "source": [
    "X_train,X_test,y_train,y_test = train_test_split(X,y,test_size=0.2,random_state=1)\n",
    "\n",
    "# Apply PCA\n",
    "X_train_pc = pc.fit_transform(X_train,y_train)\n",
    "X_test_pc = pc.transform(X_test)"
   ]
  },
  {
   "cell_type": "code",
   "execution_count": 141,
   "metadata": {},
   "outputs": [
    {
     "data": {
      "text/plain": [
       "LinearRegression(copy_X=True, fit_intercept=True, n_jobs=None, normalize=False)"
      ]
     },
     "execution_count": 141,
     "metadata": {},
     "output_type": "execute_result"
    }
   ],
   "source": [
    "lin = LinearRegression()\n",
    "lin.fit(X_train_pc,y_train)"
   ]
  },
  {
   "cell_type": "code",
   "execution_count": 142,
   "metadata": {},
   "outputs": [
    {
     "data": {
      "text/plain": [
       "0.5342795615269864"
      ]
     },
     "execution_count": 142,
     "metadata": {},
     "output_type": "execute_result"
    }
   ],
   "source": [
    "lin.score(X_test_pc,y_test)"
   ]
  },
  {
   "cell_type": "code",
   "execution_count": 143,
   "metadata": {},
   "outputs": [
    {
     "data": {
      "text/plain": [
       "1476.2567944062541"
      ]
     },
     "execution_count": 143,
     "metadata": {},
     "output_type": "execute_result"
    }
   ],
   "source": [
    "y_pred = lin.predict(X_test_pc)\n",
    "mean_absolute_percentage_error(y_test,y_pred)\n"
   ]
  },
  {
   "cell_type": "code",
   "execution_count": 144,
   "metadata": {},
   "outputs": [
    {
     "data": {
      "text/plain": [
       "0.5342795615269864"
      ]
     },
     "execution_count": 144,
     "metadata": {},
     "output_type": "execute_result"
    }
   ],
   "source": [
    "r2_score(y_test,y_pred)"
   ]
  },
  {
   "cell_type": "code",
   "execution_count": 145,
   "metadata": {},
   "outputs": [
    {
     "data": {
      "text/plain": [
       "array([[1.96571798e+08],\n",
       "       [1.40331404e+08],\n",
       "       [5.38600720e+07],\n",
       "       [2.02171318e+08]])"
      ]
     },
     "execution_count": 145,
     "metadata": {},
     "output_type": "execute_result"
    }
   ],
   "source": [
    "# Predict for our test cases\n",
    "\n",
    "y_pred_f = lin.predict(pc.transform(Test_df_final))\n",
    "y_pred_f"
   ]
  },
  {
   "cell_type": "markdown",
   "metadata": {},
   "source": [
    "# -------------------------- Polynomial regression----------------"
   ]
  },
  {
   "cell_type": "code",
   "execution_count": 146,
   "metadata": {},
   "outputs": [],
   "source": [
    "#Select degree of polynomial\n",
    "\n",
    "pf = PolynomialFeatures(2)"
   ]
  },
  {
   "cell_type": "code",
   "execution_count": 147,
   "metadata": {},
   "outputs": [
    {
     "data": {
      "text/plain": [
       "LinearRegression(copy_X=True, fit_intercept=True, n_jobs=None, normalize=False)"
      ]
     },
     "execution_count": 147,
     "metadata": {},
     "output_type": "execute_result"
    }
   ],
   "source": [
    "X_poly = pf.fit_transform(X)\n",
    "X_train, X_test, y_train, y_test = train_test_split(X_poly,y,random_state=1,test_size=0.2)\n",
    "\n",
    "lr = LinearRegression()\n",
    "lr.fit(X_train,y_train)"
   ]
  },
  {
   "cell_type": "code",
   "execution_count": 148,
   "metadata": {},
   "outputs": [
    {
     "data": {
      "text/plain": [
       "2859.4919609358567"
      ]
     },
     "execution_count": 148,
     "metadata": {},
     "output_type": "execute_result"
    }
   ],
   "source": [
    "y_pred = lr.predict(X_test)\n",
    "mean_absolute_percentage_error(y_test,y_pred)"
   ]
  },
  {
   "cell_type": "code",
   "execution_count": 149,
   "metadata": {},
   "outputs": [
    {
     "data": {
      "text/plain": [
       "0.5459932509177894"
      ]
     },
     "execution_count": 149,
     "metadata": {},
     "output_type": "execute_result"
    }
   ],
   "source": [
    "r2_score(y_test,y_pred)"
   ]
  },
  {
   "cell_type": "code",
   "execution_count": 152,
   "metadata": {},
   "outputs": [
    {
     "data": {
      "text/plain": [
       "array([[1.98883952e+08],\n",
       "       [9.55572663e+07],\n",
       "       [3.42770869e+07],\n",
       "       [1.83330602e+08]])"
      ]
     },
     "execution_count": 152,
     "metadata": {},
     "output_type": "execute_result"
    }
   ],
   "source": [
    "# Predict for test cases\n",
    "\n",
    "y_pred_f = lr.predict(pf.fit_transform(Test_df_final))\n",
    "y_pred_f"
   ]
  },
  {
   "cell_type": "code",
   "execution_count": null,
   "metadata": {},
   "outputs": [],
   "source": []
  },
  {
   "cell_type": "markdown",
   "metadata": {},
   "source": [
    "# --------------- Rough Work--------------"
   ]
  },
  {
   "cell_type": "code",
   "execution_count": 9,
   "metadata": {},
   "outputs": [
    {
     "data": {
      "text/html": [
       "<div>\n",
       "<style scoped>\n",
       "    .dataframe tbody tr th:only-of-type {\n",
       "        vertical-align: middle;\n",
       "    }\n",
       "\n",
       "    .dataframe tbody tr th {\n",
       "        vertical-align: top;\n",
       "    }\n",
       "\n",
       "    .dataframe thead th {\n",
       "        text-align: right;\n",
       "    }\n",
       "</style>\n",
       "<table border=\"1\" class=\"dataframe\">\n",
       "  <thead>\n",
       "    <tr style=\"text-align: right;\">\n",
       "      <th></th>\n",
       "      <th>budget</th>\n",
       "      <th>Gross_USA</th>\n",
       "    </tr>\n",
       "  </thead>\n",
       "  <tbody>\n",
       "    <tr>\n",
       "      <td>0</td>\n",
       "      <td>237000000</td>\n",
       "      <td>760507625</td>\n",
       "    </tr>\n",
       "    <tr>\n",
       "      <td>1</td>\n",
       "      <td>300000000</td>\n",
       "      <td>309420425</td>\n",
       "    </tr>\n",
       "    <tr>\n",
       "      <td>2</td>\n",
       "      <td>250000000</td>\n",
       "      <td>448139099</td>\n",
       "    </tr>\n",
       "    <tr>\n",
       "      <td>3</td>\n",
       "      <td>250000000</td>\n",
       "      <td>73078100</td>\n",
       "    </tr>\n",
       "    <tr>\n",
       "      <td>4</td>\n",
       "      <td>258000000</td>\n",
       "      <td>336530303</td>\n",
       "    </tr>\n",
       "    <tr>\n",
       "      <td>...</td>\n",
       "      <td>...</td>\n",
       "      <td>...</td>\n",
       "    </tr>\n",
       "    <tr>\n",
       "      <td>1018</td>\n",
       "      <td>40000000</td>\n",
       "      <td>69030436</td>\n",
       "    </tr>\n",
       "    <tr>\n",
       "      <td>1019</td>\n",
       "      <td>95000000</td>\n",
       "      <td>159227644</td>\n",
       "    </tr>\n",
       "    <tr>\n",
       "      <td>1020</td>\n",
       "      <td>175000000</td>\n",
       "      <td>77047065</td>\n",
       "    </tr>\n",
       "    <tr>\n",
       "      <td>1021</td>\n",
       "      <td>90000000</td>\n",
       "      <td>204417855</td>\n",
       "    </tr>\n",
       "    <tr>\n",
       "      <td>1022</td>\n",
       "      <td>84500000</td>\n",
       "      <td>84158461</td>\n",
       "    </tr>\n",
       "  </tbody>\n",
       "</table>\n",
       "<p>1023 rows × 2 columns</p>\n",
       "</div>"
      ],
      "text/plain": [
       "         budget  Gross_USA\n",
       "0     237000000  760507625\n",
       "1     300000000  309420425\n",
       "2     250000000  448139099\n",
       "3     250000000   73078100\n",
       "4     258000000  336530303\n",
       "...         ...        ...\n",
       "1018   40000000   69030436\n",
       "1019   95000000  159227644\n",
       "1020  175000000   77047065\n",
       "1021   90000000  204417855\n",
       "1022   84500000   84158461\n",
       "\n",
       "[1023 rows x 2 columns]"
      ]
     },
     "execution_count": 9,
     "metadata": {},
     "output_type": "execute_result"
    }
   ],
   "source": [
    "data = df[[\"budget\",\"Gross_USA\"]]\n",
    "data"
   ]
  },
  {
   "cell_type": "code",
   "execution_count": 10,
   "metadata": {},
   "outputs": [
    {
     "name": "stderr",
     "output_type": "stream",
     "text": [
      "C:\\Users\\neilr\\Anaconda3\\lib\\site-packages\\ipykernel_launcher.py:1: SettingWithCopyWarning: \n",
      "A value is trying to be set on a copy of a slice from a DataFrame.\n",
      "Try using .loc[row_indexer,col_indexer] = value instead\n",
      "\n",
      "See the caveats in the documentation: http://pandas.pydata.org/pandas-docs/stable/user_guide/indexing.html#returning-a-view-versus-a-copy\n",
      "  \"\"\"Entry point for launching an IPython kernel.\n",
      "C:\\Users\\neilr\\Anaconda3\\lib\\site-packages\\ipykernel_launcher.py:2: SettingWithCopyWarning: \n",
      "A value is trying to be set on a copy of a slice from a DataFrame.\n",
      "Try using .loc[row_indexer,col_indexer] = value instead\n",
      "\n",
      "See the caveats in the documentation: http://pandas.pydata.org/pandas-docs/stable/user_guide/indexing.html#returning-a-view-versus-a-copy\n",
      "  \n"
     ]
    }
   ],
   "source": [
    "data['budget'] = np.log10(data['budget'])\n",
    "data['Gross_USA'] = np.log10(data['Gross_USA'])"
   ]
  },
  {
   "cell_type": "code",
   "execution_count": 11,
   "metadata": {},
   "outputs": [
    {
     "data": {
      "text/plain": [
       "<matplotlib.axes._subplots.AxesSubplot at 0x22fe1d18988>"
      ]
     },
     "execution_count": 11,
     "metadata": {},
     "output_type": "execute_result"
    },
    {
     "data": {
      "image/png": "[encoded data removed]",
      "text/plain": [
       "<Figure size 432x288 with 1 Axes>"
      ]
     },
     "metadata": {
      "needs_background": "light"
     },
     "output_type": "display_data"
    }
   ],
   "source": [
    "sns.scatterplot(x=\"budget\", y=\"Gross_USA\", data=data)"
   ]
  },
  {
   "cell_type": "code",
   "execution_count": 12,
   "metadata": {},
   "outputs": [
    {
     "data": {
      "text/html": [
       "<div>\n",
       "<style scoped>\n",
       "    .dataframe tbody tr th:only-of-type {\n",
       "        vertical-align: middle;\n",
       "    }\n",
       "\n",
       "    .dataframe tbody tr th {\n",
       "        vertical-align: top;\n",
       "    }\n",
       "\n",
       "    .dataframe thead th {\n",
       "        text-align: right;\n",
       "    }\n",
       "</style>\n",
       "<table border=\"1\" class=\"dataframe\">\n",
       "  <thead>\n",
       "    <tr style=\"text-align: right;\">\n",
       "      <th></th>\n",
       "      <th>budget</th>\n",
       "      <th>Gross_USA</th>\n",
       "    </tr>\n",
       "  </thead>\n",
       "  <tbody>\n",
       "    <tr>\n",
       "      <td>budget</td>\n",
       "      <td>1.00</td>\n",
       "      <td>0.71</td>\n",
       "    </tr>\n",
       "    <tr>\n",
       "      <td>Gross_USA</td>\n",
       "      <td>0.71</td>\n",
       "      <td>1.00</td>\n",
       "    </tr>\n",
       "  </tbody>\n",
       "</table>\n",
       "</div>"
      ],
      "text/plain": [
       "           budget  Gross_USA\n",
       "budget       1.00       0.71\n",
       "Gross_USA    0.71       1.00"
      ]
     },
     "execution_count": 12,
     "metadata": {},
     "output_type": "execute_result"
    }
   ],
   "source": [
    "data.corr()"
   ]
  },
  {
   "cell_type": "code",
   "execution_count": null,
   "metadata": {},
   "outputs": [],
   "source": []
  }
 ],
 "metadata": {
  "kernelspec": {
   "display_name": "Python 3",
   "language": "python",
   "name": "python3"
  },
  "language_info": {
   "codemirror_mode": {
    "name": "ipython",
    "version": 3
   },
   "file_extension": ".py",
   "mimetype": "text/x-python",
   "name": "python",
   "nbconvert_exporter": "python",
   "pygments_lexer": "ipython3",
   "version": "3.7.4"
  }
 },
 "nbformat": 4,
 "nbformat_minor": 2
}
